{
 "cells": [
  {
   "cell_type": "markdown",
   "metadata": {},
   "source": [
    "*Luis Antonio Ortega Andrés     \n",
    "Antonio Coín Castro*\n",
    "\n",
    "# Algoritmo de Eliminación de Variables"
   ]
  },
  {
   "cell_type": "code",
   "execution_count": 1,
   "metadata": {
    "ExecuteTime": {
     "end_time": "2020-11-29T17:28:08.724953Z",
     "start_time": "2020-11-29T17:28:08.597702Z"
    }
   },
   "outputs": [],
   "source": [
    "import numpy as np"
   ]
  },
  {
   "cell_type": "markdown",
   "metadata": {},
   "source": [
    "## Análisis teórico\n",
    "\n",
    "Este algoritmo se utiliza para hacer inferencia en redes. Supongamos que tenemos la factorización de una distribución conjunta \n",
    "\n",
    "$$ P(\\mathbf{X}) = P(X_1, X_2, \\dots, X_N) = \\prod_{i=1}^N P(X_i|Par(X_i))$$ \n",
    "\n",
    "y una evidenica $ \\mathbf{Z}=\\mathbf{z} $, donde $\\mathbf{Z} \\subset \\mathbf{X}$ es un subconjunto de las variables del problema y $\\mathbf{z}$ son sus valores observados. El objetivo es obtener la distribución de parte de las variables del problema, $\\mathbf{W} \\subset \\mathbf{X}$, dada la evidencia $\\mathbf{Z}=\\mathbf{z}$. Es decir, queremos obtener $P(\\mathbf{W}|\\mathbf{Z}=\\mathbf{z})$:\n",
    "\n",
    "$$ P(\\mathbf{W}|\\mathbf{Z}=\\mathbf{z}) = \\sum_{X \\setminus (W\\cup Z)} \\frac{P(\\mathbf{X}\\setminus \\mathbf{Z},\\mathbf{Z}=\\mathbf{z})}{P(\\mathbf{Z}=\\mathbf{z})} \\propto \\sum_{X \\setminus (W\\cup Z)} P(\\mathbf{X}\\setminus \\mathbf{Z},\\mathbf{Z}=\\mathbf{z}).$$\n",
    "\n",
    "Para ello debemos:\n",
    "\n",
    "* Reducir los factores que incluyan $\\mathbf{Z}$.\n",
    "* Eliminar el resto de variables no incluidas $\\mathbf{W}$.\n",
    "\n",
    "\n",
    "Algoritmo de eliminación de variables esquemático para un conjunto de factores $\\mathbf{\\Phi}=\\{\\Phi_1,\\dots,\\Phi_N\\}$:\n",
    "1.  Reducir todos los factores que contengan alguna variable de $\\mathbf{Z}$ en su dominio, usando la evidencia dada $\\mathbf{Z}=\\mathbf{z}$.\n",
    "2.  Para cada variable X en $\\mathbf{X} \\setminus (\\mathbf{W} \\cup \\mathbf{Z})$, eliminar la variable X mediante marginalización:\n",
    "    1. Hacer el producto de todos los factores que tienen X en su dominio: $\\psi = \\prod_{i \\mid X\\in Dom(\\Phi_i) }\\Phi_i$. \n",
    "    2. Marginalizar X del factor producto obtenido en A: $\\tau = \\sum_X \\psi$.\n",
    "    3. Actualizar la lista de factores quitando los factores que incluyen X y añadiendo el factor marginalizado $\\tau$: $\\mathbf{\\Phi} = (\\mathbf{\\Phi} \\setminus {\\psi}) \\cup \\tau$.\n",
    "3. Multiplicar factores restantes.\n",
    "4. Renormalizar para obtener una distribución."
   ]
  },
  {
   "cell_type": "markdown",
   "metadata": {},
   "source": [
    "## Implementación\n",
    "\n",
    "Definimos una clase para representar una red bayesiana a partir de la factorización de la distribución conjunta. Nos ayudamos de una serie de funciones auxiliares para normalizar, marginalizar y reducir factores, e implementamos un método para aplicar el algoritmo de eliminación de variables."
   ]
  },
  {
   "cell_type": "code",
   "execution_count": 2,
   "metadata": {
    "ExecuteTime": {
     "end_time": "2020-11-29T17:28:08.752168Z",
     "start_time": "2020-11-29T17:28:08.736461Z"
    }
   },
   "outputs": [],
   "source": [
    "class BayesianNetwork:\n",
    "    \"\"\"\n",
    "    Represents a Bayesian Network via its joint distribution decomposition.\n",
    "    \"\"\"\n",
    "    \n",
    "    def __init__(self, factor_list):\n",
    "        \"\"\" Construct a network from its factorization. Every factor must have the same\n",
    "            number of dimensions, which coincides with the total number of variables.\"\"\"\n",
    "        \n",
    "        self.factor_list = factor_list\n",
    "        self.variables = np.arange(len(self.factor_list))\n",
    "\n",
    "    def _normalize(self, distribution):\n",
    "        \"\"\" Normalize a distribution so that all values add up to 1. \"\"\"\n",
    "\n",
    "        return distribution / np.sum(distribution)\n",
    "\n",
    "    def _marginal(self, distribution, variables):\n",
    "        \"\"\" Marginalize a distribution for the given list of (indices of) variables. \"\"\"\n",
    "\n",
    "        return np.sum(distribution, axis = tuple(variables), keepdims = True)\n",
    "\n",
    "    def _reduce(self, distribution, variables, asignments, normalize_output = True):\n",
    "        \"\"\" This function receives a distribution, \n",
    "            a list of indices to variables and \n",
    "            a list of assignments to those variables.\n",
    "            \n",
    "            It performs reduction on the specified variables with the given assignments. \"\"\"\n",
    "\n",
    "        reduced = distribution.copy()\n",
    "        for variable, asignment in zip(variables, asignments):\n",
    "            reduced = np.swapaxes(reduced, 0, variable)[[asignment]]\n",
    "            reduced = np.swapaxes(reduced, 0, variable)\n",
    "\n",
    "        return self._normalize(reduced) if normalize_output else reduced\n",
    "    \n",
    "    def _factor_has_var(self, factor, variable):\n",
    "        \"\"\" Return whether a given factor has a specific variable on its domain. \"\"\"\n",
    "\n",
    "        return factor.shape[variable] > 1\n",
    "\n",
    "    def _multi_prod(self, arrays):\n",
    "        \"\"\" Perform the element-wise product of multiple arrays. \"\"\"\n",
    "        \n",
    "        assert(len(arrays) > 0)\n",
    "\n",
    "        res = arrays[0]\n",
    "        for arr in arrays[1:]:\n",
    "            res = res * arr\n",
    "\n",
    "        return res\n",
    "\n",
    "    def VE(self, W, Zs = [], zs = [], order = []):\n",
    "        \"\"\" Implement the variable elimination algorithm.\n",
    "\n",
    "            Input:\n",
    "                * W:       list of desired variables in the output factor.\n",
    "                * Zs:      list with the observed variables.\n",
    "                * zs:      list with the values of the observed variables.\n",
    "                * order:   order in which the variables not in (W U Zs) are processed. \n",
    "                           If empty, an ascending order is assumed. If not empty, the indices\n",
    "                           must be relative to the ones in self.factor_list.\n",
    "            \n",
    "            Ouput:\n",
    "                * Factor representing the joint distribution P(W|Zs=zs).\n",
    "                * The size of the biggest factor processed.\n",
    "        \"\"\"\n",
    "        \n",
    "        factors = self.factor_list.copy()\n",
    "        variables_factors = np.arange(len(factors))\n",
    "\n",
    "        # -- STEP 1: reduce factors that contain any variable in Zs --\n",
    "        for Z, z in zip(Zs, zs):\n",
    "            for i, factor in enumerate(factors):\n",
    "                if self._factor_has_var(factor, Z):\n",
    "                    factors[i] = self._reduce(factor, [Z], [z], False)\n",
    "\n",
    "        # -- STEP 2: eliminate variables via marginalization --\n",
    "        variables_rest = np.setdiff1d(variables_factors, np.union1d(W, Zs))\n",
    "        \n",
    "        # Take the desired ordering into account\n",
    "        if len(order) > 0:\n",
    "            assert((np.unique(order) == np.unique(variables_rest)).all() \n",
    "                      and len(order) == len(variables_rest))\n",
    "            variables_rest = order\n",
    "            \n",
    "        # Process each variable in order\n",
    "        max_size = 0\n",
    "        for X in variables_rest:\n",
    "            # Recover the indices of factors that have X on their domain\n",
    "            factors_X_idx = [i for i in variables_factors if self._factor_has_var(factors[i], X)]\n",
    "            \n",
    "            # Multiply those factors together\n",
    "            psi = self._multi_prod([factors[i] for i in factors_X_idx])\n",
    "            \n",
    "            # Marginalize the product with respect to X\n",
    "            tau = self._marginal(psi, [X])\n",
    "            \n",
    "            # Update the factor list\n",
    "            factors = [factors[i] for i in np.setdiff1d(variables_factors, factors_X_idx)] + [tau]\n",
    "            variables_factors = np.arange(len(factors))\n",
    "            \n",
    "            # Compute size of the processed factor\n",
    "            max_size = max(max_size, np.prod(psi.shape))\n",
    "\n",
    "        # -- STEPS 3 and 4: multiply the remaining factors and normalize --\n",
    "        res = self._normalize(self._multi_prod([*factors]))\n",
    "        \n",
    "        return res, max_size"
   ]
  },
  {
   "cell_type": "markdown",
   "metadata": {},
   "source": [
    "## Casos de prueba\n",
    "\n",
    "Definimos una distribución para probar el algoritmo, basándonos en el siguiente grafo:\n",
    "\n",
    "<img src=\" data:image/png;base64,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\"></img>\n",
    "\n",
    "Las variables representadas son:\n",
    "\n",
    "* **Nota examen (G)**: g0 (sobresaliente), g1 (notable), g2 (aprobado).\n",
    "* **Dificultad examen (D)**: d0 (fácil) y d1 (difícil).\n",
    "* **Inteligencia (I)**: i0 (normal), i1 (alta).\n",
    "* **Nota Selectividad (S)**: s0 (baja), s1 (alta).\n",
    "* **Carta de recomendación (L)**: l0 (regular), l1 (buena).\n",
    "\n",
    "La distribución conjunta es entonces:\n",
    "\n",
    "$$P(I,D, G,L,S) = P(I)P(D)P(G|I,D)P(L|G)P(S|I).$$"
   ]
  },
  {
   "cell_type": "code",
   "execution_count": 3,
   "metadata": {
    "ExecuteTime": {
     "end_time": "2020-11-29T17:28:08.779860Z",
     "start_time": "2020-11-29T17:28:08.773785Z"
    }
   },
   "outputs": [],
   "source": [
    "# Dimensión -> 0  1  2  3  4\n",
    "# Variable  -> I  D  G  L  S\n",
    "\n",
    "PI = np.array([0.7, 0.3]).reshape((2, 1, 1, 1, 1))\n",
    "PD = np.array([0.6, 0.4]).reshape((1, 2, 1, 1, 1))\n",
    "PG_ID = np.array([0.3, 0.4, 0.3, 0.05, 0.25, 0.7, 0.9, 0.08, 0.02, 0.5, 0.3, 0.2]).reshape((2, 2, 3, 1, 1))\n",
    "PL_G = np.array([0.1, 0.9, 0.4, 0.6, 0.99, 0.01]).reshape((1, 1, 3, 2, 1))\n",
    "PS_I = np.array([0.95, 0.05, 0.2, 0.8]).reshape((2, 1, 1, 1, 2))\n",
    "\n",
    "# Distribución conjunta\n",
    "PIDGLS = PI * PD * PG_ID * PL_G* PS_I\n",
    "\n",
    "# Red bayesiana\n",
    "network = BayesianNetwork([PI, PD, PG_ID, PL_G, PS_I])"
   ]
  },
  {
   "cell_type": "markdown",
   "metadata": {},
   "source": [
    "Establecemos una serie de casos de prueba."
   ]
  },
  {
   "cell_type": "code",
   "execution_count": 4,
   "metadata": {
    "ExecuteTime": {
     "end_time": "2020-11-29T17:28:08.824632Z",
     "start_time": "2020-11-29T17:28:08.811765Z"
    }
   },
   "outputs": [
    {
     "name": "stdout",
     "output_type": "stream",
     "text": [
      "Todos los casos de prueba son correctos.\n"
     ]
    }
   ],
   "source": [
    "# ¿Cuál es la distribución P(I)?\n",
    "factor, max_size = network.VE([0])\n",
    "assert(np.allclose(np.array([[[[[0.7]]]], [[[[0.3]]]]]), factor))\n",
    "assert(max_size == 12)\n",
    "\n",
    "# Si sabemos que la nota del examen es aprobado, ¿cuál es la distribución de la inteligencia? \n",
    "# P(I|G=g2)\n",
    "factor, max_size = network.VE([0], [2], [2])\n",
    "assert(np.allclose(np.array([[[[[0.92105263]]]], [[[[0.07894737]]]]]), factor))\n",
    "assert(max_size == 4)\n",
    "\n",
    "# Y si además el examen es difícil?\n",
    "# P(I|G=g2,D=d1)\n",
    "factor, max_size = network.VE([0], [1,2], [1,2])\n",
    "assert(np.allclose(np.array([[[[[0.89090909]]]], [[[[0.10909091]]]]]), factor))\n",
    "assert(max_size == 4)\n",
    "\n",
    "print(\"Todos los casos de prueba son correctos.\")"
   ]
  },
  {
   "cell_type": "code",
   "execution_count": 5,
   "metadata": {
    "ExecuteTime": {
     "end_time": "2020-11-29T17:28:08.840750Z",
     "start_time": "2020-11-29T17:28:08.827022Z"
    }
   },
   "outputs": [
    {
     "name": "stdout",
     "output_type": "stream",
     "text": [
      "Todos los casos de prueba son correctos.\n"
     ]
    }
   ],
   "source": [
    "# Calcula la distribución P(D)\n",
    "factor, max_size = network.VE([1])\n",
    "assert(np.allclose(np.array([[[[[0.6]]], [[[0.4]]]]]), factor))\n",
    "assert(max_size == 24)\n",
    "\n",
    "# Prob examen si nota es aprobado: P(D|G=g2)\n",
    "factor, max_size = network.VE([1], [2], [2])\n",
    "assert(np.allclose(np.array([[[[[0.37070938]]], [[[0.62929062]]]]]), factor))\n",
    "assert(max_size == 8)\n",
    "\n",
    "# Probabilidad de examen difícil D=d1 dado que G=g2 y S=s1\n",
    "factor, max_size = network.VE([1], [2,4], [2,1])\n",
    "assert(np.allclose(np.array([[[[[0.24044002]]], [[[0.75955998]]]]]), factor))\n",
    "assert(max_size == 4)\n",
    "\n",
    "print(\"Todos los casos de prueba son correctos.\")"
   ]
  },
  {
   "cell_type": "markdown",
   "metadata": {},
   "source": [
    "Finalmente estudiamos cómo influyen unas variables sobre otras, dependiendo de la evidencia que tengamos. En concreto, nos preguntamos si la nota de selectividad (S) influye en la dificultad del examen (D), dependiendo de si conocemos o no su nota (G)."
   ]
  },
  {
   "cell_type": "code",
   "execution_count": 6,
   "metadata": {
    "ExecuteTime": {
     "end_time": "2020-11-29T17:28:08.894877Z",
     "start_time": "2020-11-29T17:28:08.877456Z"
    },
    "scrolled": true
   },
   "outputs": [
    {
     "name": "stdout",
     "output_type": "stream",
     "text": [
      "Distribución de D:\n",
      " [[[[[0.6]]]\n",
      "\n",
      "\n",
      "  [[[0.4]]]]]\n",
      "\n",
      "Distribución de D|S=1:\n",
      " [[[[[0.6]]]\n",
      "\n",
      "\n",
      "  [[[0.4]]]]]\n",
      "--> No cambia\n",
      "\n",
      "Distribución de D|G=2:\n",
      " [[[[[0.37070938]]]\n",
      "\n",
      "\n",
      "  [[[0.62929062]]]]]\n",
      "--> Cambia\n",
      "\n",
      "Distribución de D|G=2,S=1:\n",
      " [[[[[0.24044002]]]\n",
      "\n",
      "\n",
      "  [[[0.75955998]]]]]\n",
      "--> Cambia\n"
     ]
    }
   ],
   "source": [
    "# P(D)\n",
    "pd, _ = network.VE([1])\n",
    "print(\"Distribución de D:\\n\", pd)\n",
    "\n",
    "# P(D|S=1), no conocemos G\n",
    "pd_s1, _ = network.VE([1], [4], [1])\n",
    "print(\"\\nDistribución de D|S=1:\\n\", pd_s1)\n",
    "if np.allclose(pd_s1, pd):\n",
    "    print(\"--> No cambia\")\n",
    "else:\n",
    "    print(\"--> Cambia\")\n",
    "\n",
    "# P(D|G=2)\n",
    "pd_g2, _ = network.VE([1], [2], [2])\n",
    "print(\"\\nDistribución de D|G=2:\\n\", pd_g2)\n",
    "if np.allclose(pd_g2, pd):\n",
    "    print(\"--> No cambia\")\n",
    "else:\n",
    "    print(\"--> Cambia\")\n",
    "\n",
    "# P(D|G=2,S=1), conocemos G\n",
    "pd_g2s1, _ = network.VE([1], [2, 4], [2, 1])\n",
    "print(\"\\nDistribución de D|G=2,S=1:\\n\", pd_g2s1)\n",
    "if np.allclose(pd_g2s1, pd):\n",
    "    print(\"--> No cambia\")\n",
    "else:\n",
    "    print(\"--> Cambia\")"
   ]
  }
 ],
 "metadata": {
  "kernelspec": {
   "display_name": "Python 3",
   "language": "python",
   "name": "python3"
  },
  "language_info": {
   "codemirror_mode": {
    "name": "ipython",
    "version": 3
   },
   "file_extension": ".py",
   "mimetype": "text/x-python",
   "name": "python",
   "nbconvert_exporter": "python",
   "pygments_lexer": "ipython3",
   "version": "3.8.6"
  },
  "latex_envs": {
   "LaTeX_envs_menu_present": false,
   "autoclose": true,
   "autocomplete": false,
   "bibliofile": "bibliography.bib",
   "cite_by": "apalike",
   "current_citInitial": 1,
   "eqLabelWithNumbers": true,
   "eqNumInitial": 1,
   "hotkeys": {
    "equation": "Ctrl-E",
    "itemize": "Ctrl-I"
   },
   "labels_anchors": false,
   "latex_user_defs": false,
   "report_style_numbering": false,
   "user_envs_cfg": false
  },
  "toc": {
   "base_numbering": 1,
   "nav_menu": {},
   "number_sections": true,
   "sideBar": true,
   "skip_h1_title": false,
   "title_cell": "Table of Contents",
   "title_sidebar": "Contents",
   "toc_cell": false,
   "toc_position": {},
   "toc_section_display": true,
   "toc_window_display": false
  },
  "varInspector": {
   "cols": {
    "lenName": 16,
    "lenType": 16,
    "lenVar": 40
   },
   "kernels_config": {
    "python": {
     "delete_cmd_postfix": "",
     "delete_cmd_prefix": "del ",
     "library": "var_list.py",
     "varRefreshCmd": "print(var_dic_list())"
    },
    "r": {
     "delete_cmd_postfix": ") ",
     "delete_cmd_prefix": "rm(",
     "library": "var_list.r",
     "varRefreshCmd": "cat(var_dic_list()) "
    }
   },
   "types_to_exclude": [
    "module",
    "function",
    "builtin_function_or_method",
    "instance",
    "_Feature"
   ],
   "window_display": false
  }
 },
 "nbformat": 4,
 "nbformat_minor": 4
}
