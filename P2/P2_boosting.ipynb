{
 "cells": [
  {
   "cell_type": "markdown",
   "metadata": {},
   "source": [
    "*Luis Antonio Ortega Andrés    \n",
    "Antonio Coín Castro*\n",
    "# Métodos Avanzados en Aprendizaje Automático"
   ]
  },
  {
   "cell_type": "code",
   "execution_count": 1,
   "metadata": {
    "ExecuteTime": {
     "end_time": "2020-11-12T15:36:50.819579Z",
     "start_time": "2020-11-12T15:36:50.805327Z"
    }
   },
   "outputs": [],
   "source": [
    "import numpy as np\n",
    "from sklearn.tree import DecisionTreeRegressor\n",
    "import matplotlib.pyplot as plt\n",
    "\n",
    "%matplotlib inline"
   ]
  },
  {
   "cell_type": "markdown",
   "metadata": {},
   "source": [
    "### Funciones auxiliares"
   ]
  },
  {
   "cell_type": "code",
   "execution_count": 345,
   "metadata": {
    "ExecuteTime": {
     "end_time": "2020-11-17T11:04:31.371624Z",
     "start_time": "2020-11-17T11:04:31.356960Z"
    }
   },
   "outputs": [],
   "source": [
    "def plotModel(x,y,clase,clf,title=\"\"):\n",
    "    from matplotlib.colors import ListedColormap\n",
    "    \n",
    "    x_min, x_max = x.min() - .2, x.max() + .2\n",
    "    y_min, y_max = y.min() - .2, y.max() + .2\n",
    "    hx = (x_max - x_min)/100.\n",
    "    hy = (y_max - y_min)/100.\n",
    "    xx, yy = np.meshgrid(np.arange(x_min, x_max, hx), np.arange(y_min, y_max, hy))\n",
    "\n",
    "    if hasattr(clf, \"decision_function\"):\n",
    "        z = clf.decision_function(np.c_[xx.ravel(), yy.ravel()])\n",
    "    elif hasattr(clf, \"predict_proba\"):\n",
    "        z = clf.predict_proba(np.c_[xx.ravel(), yy.ravel()])[:, 1]\n",
    "    else:\n",
    "        z = clf.predict(np.c_[xx.ravel(), yy.ravel()])\n",
    "\n",
    "    z = z.reshape(xx.shape)\n",
    "    cm = plt.cm.RdBu\n",
    "    cm_bright = ListedColormap(['#FF0000', '#0000FF'])\n",
    "    \n",
    "    plt.contourf(xx, yy, z, cmap=cm, alpha=.8)\n",
    "    plt.contour(xx, yy, z, [0.5], linewidths=[2], colors=['k'])\n",
    "\n",
    "    if clase is not None:\n",
    "        plt.scatter(x[clase==-1], y[clase==-1], c='#FF0000')\n",
    "        plt.scatter(x[clase==1], y[clase==1], c='#0000FF')\n",
    "    else:\n",
    "        plt.plot(x,y,'g', linewidth=3)\n",
    "        \n",
    "    plt.gca().set_xlim(xx.min(), xx.max())\n",
    "    plt.gca().set_ylim(yy.min(), yy.max())\n",
    "    plt.grid(True)\n",
    "    plt.xlabel(\"X\")\n",
    "    plt.ylabel(\"Y\")\n",
    "    plt.title(title)"
   ]
  },
  {
   "cell_type": "code",
   "execution_count": 3,
   "metadata": {
    "ExecuteTime": {
     "end_time": "2020-11-12T15:33:22.700631Z",
     "start_time": "2020-11-12T15:33:22.657613Z"
    }
   },
   "outputs": [],
   "source": [
    "def createDataSet(n, model, ymargin, noise=None, output_boundary=False):\n",
    "    x = np.random.rand(n,1)*2.0*np.pi\n",
    "    xbnd = np.linspace(0,2.0*np.pi,100)\n",
    "\n",
    "    if model == 'sine':\n",
    "        y = (np.random.rand(n,1) - 0.5)*2.2\n",
    "        c = y > np.sin(x)\n",
    "        ybnd = np.sin(xbnd)\n",
    "    elif model == 'linear':\n",
    "        y = np.random.rand(n,1)*2.0*np.pi\n",
    "        c = y > x\n",
    "        ybnd = xbnd\n",
    "    elif model == 'square':\n",
    "        y = np.random.rand(n,1)*4.0*np.pi*np.pi\n",
    "        c = y > x*x\n",
    "        ybnd = xbnd*xbnd\n",
    "    else:\n",
    "        y = np.random.rand(n,1)*2.0*np.pi\n",
    "        c = y > x\n",
    "        ybnd = xbnd\n",
    "    \n",
    "    y[c == True] = y[c == True] + ymargin\n",
    "    y[c == False] = y[c == False] - ymargin\n",
    "    \n",
    "    if noise is not None:\n",
    "        y = y + noise * np.random.randn(n,1)\n",
    "        x = x + noise * np.random.randn(n,1)\n",
    "\n",
    "    if output_boundary == True:\n",
    "        return x, y, (c*1).ravel(), xbnd, ybnd\n",
    "    else:\n",
    "        return x, y, (c*1).ravel()"
   ]
  },
  {
   "cell_type": "code",
   "execution_count": 4,
   "metadata": {
    "ExecuteTime": {
     "end_time": "2020-11-12T15:33:23.248924Z",
     "start_time": "2020-11-12T15:33:23.233703Z"
    }
   },
   "outputs": [],
   "source": [
    "def plotData(x,y,c,style0,style1,title=''):\n",
    "    plt.scatter(x[c==0],y[c==0],**style0)\n",
    "    plt.scatter(x[c==1],y[c==1],**style1)\n",
    "    plt.grid(True)\n",
    "    plt.axis([x.min()-0.2, x.max()+0.2, y.min()-0.2, y.max()+0.2])\n",
    "    plt.xlabel(\"X\")\n",
    "    plt.ylabel(\"Y\")\n",
    "    plt.title(title)"
   ]
  },
  {
   "cell_type": "markdown",
   "metadata": {},
   "source": [
    "## Gradient Boosting\n",
    "\n",
    "$\\DeclareMathOperator*{\\argmin}{arg\\,min}$\n",
    "\n",
    "El algoritmo de Gradient Boosting persigue construir un clasificador *ensemble* mediante un modelo aditivo, es decir, como suma de clasificadores débiles (*weak classifiers*). La idea general es obtener un clasificador $F(x)$ de la forma\n",
    "\n",
    "$$F(x)=\\sum_{i=1}^M h_m(x),$$\n",
    "\n",
    "de manera que realizamos una construcción iterativa en M pasos:\n",
    "\n",
    "$$F_m(x)=F_{m-1}(x) + \\gamma_mh_m(x), \\quad m=1,\\dots,M.$$\n",
    "\n",
    "Los multiplicadores $\\gamma_m$ son constantes que marcan el tamaño del paso y ponderan el peso de cada clasificador débil. El objetivo es optimizar los valores de $\\gamma_m$ y $h_m$ para minimizar la pérdida entre las predicciones y los valores reales en el conjunto de entrenamiento, utilizando un esquema de gradiente descendente. De esta forma, definimos nuestro clasificador inicial como aquella constante que minimiza la función de pérdida.\n",
    "\n",
    "Pasamos ahora a describir el algoritmo de Gradient Boosting:\n",
    "\n",
    "**Entrada**: \n",
    "\n",
    "- Conjunto de entrenamiento $\\{(x_n, y_n)\\}_{n=1,\\dots,N}$.\n",
    "- Función de pérdida puntual diferenciable $L(y,F(x))$.\n",
    "- Número de número de iteraciones $M$.\n",
    "\n",
    "**Procedimiento**:\n",
    "\n",
    "1. Se inicializa el modelo con un clasificador constante que minimice la pérdida esperada:\n",
    "$$\n",
    "F_0 (x) = \\argmin_{\\gamma \\in \\mathbb R} \\sum_{n=1}^N L(y_n, \\gamma).\n",
    "$$\n",
    "2. Para $m = 1,\\dots,M$:\n",
    "    1. Se calculan los *pseudo-residuos*:\n",
    "    $$\n",
    "        r_{nm} = - \\left[ \\frac{\\partial L(y_n, F(x_n))}{\\partial F(x_n)} \\right]_{F(x) = F_{m-1}(x)} \\quad n = 1,\\dots,N.\n",
    "    $$\n",
    "    \n",
    "    2. Se ajusta un modelo base $h_m(x)$ a los pseudo-residuos, es decir, se entrena $h_m$ sobre el conjunto $\\{x_n, r_{nm}\\}_{n=1,\\dots,N}$.\n",
    "    3. Se estima el multiplicador $\\gamma_m$ que minimiza el error en entrenamiento, utilizando si es necesario un único paso del método de Newton-Raphson:\n",
    "    $$\n",
    "    \\gamma_m = \\argmin_\\gamma \\sum_{n=1}^N L(y_n, F_{m-1}(x_n) + \\gamma h_m(x_n)).\n",
    "    $$\n",
    "    4. Se actualiza el modelo:\n",
    "    $$\n",
    "    F_m(x) =F_{m-1}(x) + \\gamma_m h_m(x).\n",
    "    $$\n",
    "    \n",
    "3. Devolvemos $F_M(x)$ como modelo final en el caso de regresión, o alguna transformación de la misma para clasificación, que transforme valores continuos en etiquetas de clase teniendo en cuenta cuál es la función de pérdida.\n",
    "\n",
    "Aunque el algoritmo descrito arriba representa el procedimiento estándar de construcción de estimadores, podemos añadir un par de técnicas de regularización para intentar prevenir el *overfitting*:\n",
    "\n",
    "1. **Learning rate.** Ponderamos la contribución de cada clasificador débil por un valor $0 < \\nu \\leq 1$, de forma que\n",
    "$$F_{m}(x)=F_{m-1}(x) + \\nu\\gamma_mh_m(x)$$\n",
    "\n",
    "2. **Stochastic Gradient Boosting.** Se trata de una modificación propuesta por J. Friedman ([paper](https://statweb.stanford.edu/~jhf/ftp/stobst.pdf)) en la que en cada etapa se utiliza una fracción de los datos para calcular los residuos, entrenar el clasificador débil y calcular los multiplicadores."
   ]
  },
  {
   "cell_type": "markdown",
   "metadata": {},
   "source": [
    "### Error cuadrático\n",
    "\n",
    "Para el caso de regresión utilizamos como función de pérdida el error cuadrático entre predicciones y valores reales (convenientemente dividido entre 2 para simplificar los cálculos):\n",
    "\n",
    "$$\n",
    "L(y, F(x)) = \\frac{1}{2}(y - F(x))^2.\n",
    "$$\n",
    "\n",
    "Veamos ahora con detalle cuáles son los elementos que modelan el algoritmo en este caso.\n",
    "\n",
    "1. **Estimador inicial**. El valor que minimiza la pérdida cuadrática coincide con la media de las respuestas de los datos de entrenamiento:\n",
    "$$\n",
    "F_0(x) = \\argmin_\\gamma \\sum_{n=1}^N L(y_n, \\gamma) = \\argmin_\\gamma \\sum_{n=1}^N (y_n - \\gamma)^2\n",
    "$$\n",
    "$$\n",
    "\\dfrac{\\partial \\sum_{n=1}^N L(y_n, \\gamma)}{\\partial \\gamma} = -\\sum_{n=1}^N(y_n - \\gamma) = 0 \\implies F_0(x) = \\frac{1}{N}\\sum_{n=1}^N y_n = \\bar{y}.\n",
    "$$\n",
    "\n",
    "2. **Pseudo-residuos**. Como la función de pérdida es derivable, podemos calcular explícitamente su derivada parcial respecto de la segunda variable:\n",
    "$$\n",
    "r_{nm} = - \\left[ \\frac{\\partial L(y_n, F(x_n))}{\\partial F(x_n)} \\right]_{F(x) = F_{m-1}(x)} = -\\left[ \\frac{\\partial}{\\partial F(x_n)}\\frac{1}{2}(y_n - F(x_n)^2 \\right]_{F(x) = F_{m-1}(x)} = y_n - F_{m-1}(x_n).$$\n",
    "\n",
    "3. **Multiplicador**. Queremos minimizar en $\\gamma$ la siguiente función:\n",
    "$$\n",
    "f_m(\\gamma) = \\sum_{n=1}^N \\frac{1}{2}(y_n - F_{m-1}(x_n) - \\gamma h_m(x_n))^2\n",
    "$$\n",
    "Para ello, pretendemos calcular su derivada e igualarla a $0$. En primer lugar, se tiene:\n",
    "$$\n",
    "f_m'(\\gamma) = \\sum_{n=1}^N -h_m(x_n)(y_n - F_{m-1}(x_n) - \\gamma h_m(x_n)) \n",
    "$$\n",
    "Ahora, como $h_m$ se ha entrenado para que\n",
    "$$\n",
    "h_m(x_n) \\approx r_{nm} = y_n- F_{m-1}(x_n),\n",
    "$$\n",
    "podemos aproximar:\n",
    "$$\n",
    "f_m'(\\gamma) = \\sum_{n=1}^N - (y_n- F_{m-1}(x_n))(y_n- F_{m-1}(x_n) - \\gamma (y_n- F_{m-1}(x_n))) = (\\gamma - 1) \\sum_{n=1}^N (y_n- F_{m-1}(x_n))^2.\n",
    "$$\n",
    "Por tanto, concluimos que:\n",
    "$$\n",
    "f_m'(\\gamma)= 0 \\implies \\gamma_m^* = 1.$$\n",
    "\n",
    "Teniendo todo esto en cuenta, creamos una clase que represente estos elementos para la pérdida cuadrática."
   ]
  },
  {
   "cell_type": "code",
   "execution_count": 184,
   "metadata": {
    "ExecuteTime": {
     "end_time": "2020-11-16T16:24:21.202354Z",
     "start_time": "2020-11-16T16:24:21.176557Z"
    }
   },
   "outputs": [],
   "source": [
    "class SquaredErrorLoss:\n",
    "    \"\"\" \n",
    "    Define elementos para la función de pérdida cuadrática.\n",
    "    \"\"\"\n",
    "    \n",
    "    def F0(_, X, y):\n",
    "        \"\"\" Calcula el valor constate que minimiza la pérdida con la salida 'y'. \n",
    "            Para la pérdida cuadrática este valor coincide con la media de los \n",
    "            valores de 'y'. \"\"\"\n",
    "        \n",
    "        return np.mean(y)\n",
    "\n",
    "    def residuos(_, y, F):\n",
    "        \"\"\" Calcula los pseudo-residuos para un objetivo 'y' y \n",
    "            una salida del modelo 'F'. \"\"\"\n",
    "\n",
    "        return y - F\n",
    "\n",
    "    def paso_newton(_, X, y, residuos, hm):\n",
    "        \"\"\" Recibe el conjunto de entrenamiento ('X'), el valor a predecir ('y'), \n",
    "            los pseudo-residuos ('residuos')  sobre los que se entrena el nuevo \n",
    "            regresor, y el regresor ('hm'). Calcula el multiplicador asociado \n",
    "            al paso m. \"\"\"\n",
    "        \n",
    "        return 1.0\n",
    "    \n",
    "    def __call__(self, y, F):\n",
    "        \"\"\" Devuelve el valor puntual de la función de pérdida para un \n",
    "            objetivo 'y' y una salida del modelo F. \"\"\"\n",
    "        \n",
    "        return np.linalg.norm(y - F) ** 2"
   ]
  },
  {
   "cell_type": "markdown",
   "metadata": {},
   "source": [
    "### Error logístico\n",
    "\n",
    "Hacemos el mismo análisis para el caso de clasificación, utilizando como función de pérdida el error logístico:\n",
    "\n",
    "$$\n",
    "L(y, F(x)) = \\log(1 + e^{-2yF(x)}), \\quad y \\in \\{-1,1\\}.\n",
    "$$\n",
    "\n",
    "En este caso la estrategia será un poco distinta, pues aprovecharemos que los estimadores débiles que usamos son árboles de decisión de profundidad $J$, es decir, de la forma \n",
    "\n",
    "$$h_m(x)=\\sum_{j=1}^{J} b_{jm}\\mathcal{I}(x \\in R_{jm}),$$\n",
    "\n",
    "donde $\\mathcal I(\\cdot)$ es la función indicadora y $\\{R_{jm}\\}_{j=1,\\dots,J}$ son las regiones en las que se divide el espacio de entrada, representadas por las hojas terminales del árbol en el paso $m$-ésimo. En este caso, podemos mejorar la calidad del ajuste calculando un multiplicador diferente en cada nodo, es decir, construyendo los estimadores como\n",
    "\n",
    "$$F_m(x) = F_{m-1}(x) + \\sum_{j=1}^{J} \\gamma_{jm}\\mathcal{I}(x \\in R_{jm}).$$\n",
    "\n",
    "Notamos que, esto es equivalente a \"descartar\" los valores $\\{b_{jm}\\}$ del árbol de decisión y considerar que los multiplicadores son $\\gamma_{jm}=\\rho_m b_{jm}$, donde $\\rho_m$ serían los multiplicadores a nivel de árbol que usaríamos siguiendo el algoritmo general. Por último, teniendo en cuenta que las regiones $\\{R_{jm}\\}$ son disjuntas, concluimos que\n",
    "\n",
    "$$\\gamma_{jm}= \\argmin_\\gamma \\sum_{x_n \\in R_{jm}} L(y_n, F_{m-1}(x_n)+\\gamma). $$\n",
    "\n",
    "Veamos entonces cómo serían los pasos del algoritmo:\n",
    "\n",
    "1. **Estimador inicial**. En este caso, <a href=\"#Análisis-matemático-de-la-pérdida-logarítmica\">se puede demostrar</a> que el valor del estimador constante inicial es:\n",
    "$$\n",
    "F_0(x)=\\argmin_\\gamma \\sum_{n=1}^N L(y_n, \\gamma) = \\argmin_\\gamma \\sum_{n=1}^N \\log(1 + e^{-2y_nF(x_n)}) = \\frac{1}{2}\\log \\left(\\frac{1+\\bar{y}}{1-\\bar y}\\right).\n",
    "$$\n",
    "\n",
    "2. **Pseudo-residuos**. Se tiene que:\n",
    "$$\n",
    "r_{nm} = - \\left[ \\frac{\\partial L(y_n, F(x_n))}{\\partial F(x_n)} \\right]_{F(x) = F_{m-1}(x)} = -\\left[ \\frac{\\partial \\log(1 + e^{-2y_nF(x_n)})}{\\partial F(x_n)} \\right]_{F(x) = F_{m-1}(x)} = \\frac{2y_n e^{-2y_nF_{m-1}(x_n)}}{1 + e^{-2y_nF_{m-1}(x_n)}} = \\frac{2y_n}{1 + e^{2y_nF_{m-1}(x_n)}}, \\quad n = 1,\\dots, N.\n",
    "$$\n",
    "\n",
    "3. **Multiplicador**. Queremos minimizar en $\\gamma$ las siguientes funciones:\n",
    "$$\n",
    "f_j(\\gamma) = \\sum_{x_n \\in R_{jm}}L(y_n, F_{m-1}(x_n) + \\gamma) = \\sum_{x_n \\in R_{jm}}\\log\\left(1 + e^{-2y_n(F_{m-1}(x_n) + \\gamma)}\\right), \\quad j = 1,\\dots, J.$$\n",
    "Como este problema de optimización es complicado, aproximamos el valor del mínimo estimando la raíz de su derivada mediante un único paso del método de Newton-Rhapson, con condición inicial $\\gamma=0$:\n",
    "$$\n",
    "f_{jm}'(\\gamma) = \\sum_{x_n \\in R_{jm}} \\frac{-2y_n  e^{-2y_n(F_{m-1}(x_n)+\\gamma)}}{1 + e^{-2y_n(F_{m-1}(x_n)+\\gamma)}} = \\sum_{x_n \\in R_{jm}} \\frac{-2y_n}{1 + e^{2y_n(F_{m-1}(x_n)+\\gamma)}},\n",
    "$$\n",
    "$$\n",
    "f_{jm}''(\\gamma) = \\sum_{x_n \\in R_{jm}} \\frac{4y_n^2e^{2y_n(F_{m-1}(x_n)+\\gamma)}}{\\left(1 + e^{2y_n(F_{m-1}(x_n)+\\gamma)}\\right)^2}.\n",
    "$$\n",
    "Por tanto, se tiene que:\n",
    "$$\n",
    "\\gamma_{jm}^{*} = -\\frac{f_{jm}'(\\gamma = 0)}{f_{jm}''(\\gamma = 0)} = \\dfrac{\\displaystyle \\sum_{x_n \\in R_{jm}}r_{nm}}{\\displaystyle \\sum_{x_n \\in R_{jm}} \\dfrac{2y_ne^{2y_nF_{m-1}(x_n)}2y_n}{(1 + e^{2y_nF_{m-1}(x_n)})(1+e^{2y_nF_{m-1}(x_n)})}}.\n",
    "$$\n",
    "Ahora, de la fórmula de $r_{nm}$ deducimos que $e^{2y_nF_{m-1}(x_n)}=\\frac{-2y_n-r_{nm}}{r_{nm}}$, y teniendo en cuenta que $y_n\\in \\{-1, 1\\}$, llegamos a que\n",
    "$$\n",
    "\\gamma_{jm}^{*} =\\dfrac{\\displaystyle \\sum_{x_n \\in R_{jm}} r_{nm}}{\\displaystyle \\sum_{x_n \\in R_{jm}}|r_{nm}|(2-|r_{nm}|)}.\n",
    "$$\n",
    "\n",
    "4. **Transformación de la salida a etiquetas.** Como esta pérdida la usamos para resolver un problema de clasificación, debemos transformar la salida de nuestro regresor $F_M$ en etiquetas de clase. Para ello utilizamos la función *sigmoide*, adaptada convenientemente para el caso en que las etiquetas son $\\pm 1$:\n",
    "$$\n",
    "\\hat \\sigma(x)=\\frac{1}{1 + e^{-2x}}\n",
    "$$\n",
    "De nuevo, <a href=\"#Análisis-matemático-de-la-pérdida-logarítmica\">se puede demostrar</a> que la transformación \n",
    "$$\n",
    "F_M(x) \\mapsto \\hat \\sigma(F_M(x))\n",
    "$$\n",
    "transforma la salida en una probabilidad entre $0$ y $1$, de forma que nuestro modelo final queda como\n",
    "$$\n",
    "P(y=1\\mid x)=\\hat \\sigma(F_M(x)).\n",
    "$$\n",
    "De esta forma, para cada nuevo ejemplo $x$ daremos como predicción la clase $\\hat y(x)\\in\\{-1, 1\\}$ que verifique \n",
    "$$P(y=\\hat y\\mid x)\\ge P(y\\neq \\hat y\\mid x).$$ Dada la simetría entre las etiquetas, y en vista de que la función sigmoide es creciente y toma el valor $0.5$ en $x=0$, tenemos finalmente que esto equivale a\n",
    "$$\n",
    "\\hat y(x)=\\operatorname{signo}(F_M(x)).\n",
    "$$\n",
    "\n",
    "*Nota*: no aplicamos esta estrategia en el caso de la pérdida cuadrática porque no proporciona un nuevo algoritmo; el clasificador final seguiría siendo el mismo."
   ]
  },
  {
   "cell_type": "code",
   "execution_count": 378,
   "metadata": {
    "ExecuteTime": {
     "end_time": "2020-11-17T11:12:34.867579Z",
     "start_time": "2020-11-17T11:12:34.852195Z"
    }
   },
   "outputs": [],
   "source": [
    "class LogLoss:\n",
    "    \"\"\" \n",
    "    Define elementos para la función de pérdida logarítmica.\n",
    "    \"\"\"\n",
    "    \n",
    "    def F0(_, X, y):\n",
    "        \"\"\" Calcula el valor constate que minimiza la pérdida con la salida 'y'. \"\"\"\n",
    "        \n",
    "        ybar = np.mean(y)\n",
    "        \n",
    "        return 0.5 * np.log((1.0 + ybar) / (1.0 - ybar))\n",
    "\n",
    "    def residuos(_, y, F):\n",
    "        \"\"\" Calcula los pseudo-residuos para un objetivo 'y' y \n",
    "            una salida del modelo 'F'. \"\"\"\n",
    "\n",
    "        return 2.0 * y / (1 + np.exp(2.0 * y * F))\n",
    "\n",
    "    def paso_newton(_, X, y, residuos, hm):\n",
    "        \"\"\" Recibe el conjunto de entrenamiento ('X'), el valor a predecir ('y'), \n",
    "            los pseudo-residuos ('residuos')  sobre los que se entrena el nuevo \n",
    "            regresor, y el regresor ('hm'). Calcula el multiplicador asociado \n",
    "            al paso m. \"\"\"\n",
    "        \n",
    "        residuos_abs = np.abs(residuos)\n",
    "        X_leaves = hm.apply(X)\n",
    "        \n",
    "        return np.sum(residuos) / np.sum(residuos_abs * (2.0 - residuos_abs))\n",
    "    \n",
    "    def raw_preds_to_proba(self, y):\n",
    "        \"\"\" Transforma las predicciones 'y' del regresor final F_M en\n",
    "            probabilidades de clase {-1, 1}, aplicando una sigmoide. \"\"\"\n",
    "        \n",
    "        proba = np.ones((y.shape[0], 2), dtype = np.float64)\n",
    "        proba[:, 1] = 1.0 / (1.0 + np.exp(-2.0 * y))\n",
    "        proba[:, 0] -= proba[:, 1]\n",
    "        \n",
    "        return proba\n",
    "        \n",
    "    def raw_preds_to_labels(self, y):\n",
    "        \"\"\" Transforma las predicciones 'y' del regresor final F_M en\n",
    "            etiquetas de clase {-1, 1}, tomando el signo. \"\"\"\n",
    "        \n",
    "        sgn = lambda x: 1 if x >= 0 else -1\n",
    "        \n",
    "        return sgn(y)\n",
    "    \n",
    "    def __call__(self, y, F):\n",
    "        \"\"\" Devuelve el valor puntual de la función de pérdida para un \n",
    "            objetivo 'y' y una salida del modelo F. \"\"\"\n",
    "        \n",
    "        return np.log(1 + np.exp(-2.0 * y * F))"
   ]
  },
  {
   "cell_type": "markdown",
   "metadata": {},
   "source": [
    "### Implementación de Gradient Boosting"
   ]
  },
  {
   "cell_type": "code",
   "execution_count": 391,
   "metadata": {
    "ExecuteTime": {
     "end_time": "2020-11-17T11:54:09.261659Z",
     "start_time": "2020-11-17T11:54:09.238013Z"
    }
   },
   "outputs": [],
   "source": [
    "class BaseGB():\n",
    "    def __init__(self, n_estimators, learning_rate, loss, \n",
    "                 max_depth, subsample, random_state):\n",
    "        self.n_estimators_   = n_estimators\n",
    "        self.random_state   = random_state\n",
    "        self.max_depth      = max_depth\n",
    "        self.learning_rate  = learning_rate\n",
    "        self.subsample      = subsample\n",
    "        self.loss_           = loss\n",
    "        self.estimators_    = []\n",
    "        self.multipliers   = []\n",
    "        \n",
    "    def _update_F(self, mult, X, tree):\n",
    "        raise NotImplementedError('_update_F method not implemented')\n",
    "    \n",
    "    def fit(self, X, y): \n",
    "        n = X.shape[0]\n",
    "        self.n_features_ = X.shape[1]\n",
    "        \n",
    "        if self.subsample < 1.0:\n",
    "            np.random.seed(self.random_state)\n",
    "        \n",
    "        # Get initial constant estimator \n",
    "        self.F0 = self.loss_.F0(X, y)\n",
    "        \n",
    "        # Set initial mask\n",
    "        sample_mask = np.arange(n)\n",
    "        n_inbag = int(self.subsample * n)\n",
    "        if n_inbag == 0:\n",
    "            raise ValueError(f\"Empty training set after selecting a fraction of {self.subsample} out of {n}\")\n",
    "        \n",
    "        # Loop trough iterations\n",
    "        F = np.full(n, self.F0)\n",
    "        for i in range(self.n_estimators_):\n",
    "            # Set base tree learner with desired depth\n",
    "            tree = DecisionTreeRegressor(criterion = \"mse\",\n",
    "                                         max_depth = self.max_depth, \n",
    "                                         random_state = self.random_state)\n",
    "            \n",
    "            # Select training subset for this iteration\n",
    "            if self.subsample < 1.0:\n",
    "                sample_mask = np.random.choice(n, size = n_inbag, replace = False)\n",
    "            \n",
    "            # Get pseudo-residuals from loss function\n",
    "            r = self.loss_.residuos(y[sample_mask], F[sample_mask])\n",
    "            \n",
    "            # Fit base learner to pseudo-residuals\n",
    "            tree.fit(X[sample_mask, :], r)\n",
    "            \n",
    "            # Compute multipliers\n",
    "            mult = self.loss_.paso_newton(X[sample_mask], y[sample_mask], r, tree)\n",
    "            \n",
    "            # Save multipliers and predictions for this step\n",
    "            self.multipliers.append(mult)\n",
    "            self.estimators_.append(tree)\n",
    "            \n",
    "            # Update F\n",
    "            F += self.learning_rate * self._update_F(mult, X, tree)\n",
    "            \n",
    "        return self\n",
    "\n",
    "    def predict(self, X):\n",
    "        raise NotImplementedError('predict method not implemented')\n",
    "        \n",
    "    def score(self, X, y):\n",
    "        raise NotImplementedError('score method not implemented')"
   ]
  },
  {
   "cell_type": "code",
   "execution_count": 392,
   "metadata": {
    "ExecuteTime": {
     "end_time": "2020-11-17T11:54:09.407871Z",
     "start_time": "2020-11-17T11:54:09.396381Z"
    }
   },
   "outputs": [],
   "source": [
    "class RegressorGB(BaseGB):\n",
    "    def __init__(self, n_estimators = 100, loss = SquaredErrorLoss(), \n",
    "                 learning_rate = 0.1, max_depth = 3, subsample = 1.0, \n",
    "                 random_state = 2020):\n",
    "        super().__init__(n_estimators, learning_rate, loss, \n",
    "                         max_depth, subsample, random_state)\n",
    "        \n",
    "    def _update_F(self, mult, X, tree):\n",
    "        pred = tree.predict(X)\n",
    "        \n",
    "        return mult * pred\n",
    "        \n",
    "    def predict(self, X):\n",
    "        y = np.full(X.shape[0], self.F0)\n",
    "        for i in range(self.n_estimators_):\n",
    "            y += self.learning_rate * self.multipliers[i] \\\n",
    "                   * self.estimators_[i].predict(X)\n",
    "                \n",
    "        return y\n",
    "    \n",
    "    def score(self, X, y):\n",
    "        return SquaredErrorLoss()(y, self.predict(X))"
   ]
  },
  {
   "cell_type": "code",
   "execution_count": 409,
   "metadata": {
    "ExecuteTime": {
     "end_time": "2020-11-17T11:59:42.713013Z",
     "start_time": "2020-11-17T11:59:42.687276Z"
    }
   },
   "outputs": [],
   "source": [
    "class ClassifierGB(BaseGB):\n",
    "    \n",
    "    def __init__(self, n_estimators = 100, loss = LogLoss(), \n",
    "                 learning_rate = 0.1, max_depth = 3, subsample = 1.0, \n",
    "                 random_state = 2020):\n",
    "        super().__init__(n_estimators, learning_rate, loss, \n",
    "                         max_depth, subsample, random_state)\n",
    "        \n",
    "    def _update_F(self, mult, X, tree):\n",
    "        pass\n",
    "    \n",
    "    def fit(self, X, y):\n",
    "        # Check class labels \n",
    "        classes = np.unique(y)\n",
    "        if (classes != [-1, 1]).any():\n",
    "            raise ValueError('Binary classes must be [-1, 1]')\n",
    "        self.classes_ = classes\n",
    "        \n",
    "        super().fit(X, y)\n",
    "        return self\n",
    "    \n",
    "    def decision_function(self, X):\n",
    "        y = np.full(X.shape[0], self.F0)\n",
    "        for i in range(self.n_estimators_):\n",
    "            y += self.learning_rate * self.multipliers_[i] #*...\n",
    "                \n",
    "        return y\n",
    "    \n",
    "    def predict(self, X):\n",
    "        raw_predictions = self.decision_function(X)\n",
    "        \n",
    "        return self.loss_.raw_preds_to_labels(raw_predictions)\n",
    "        \n",
    "    def predict_proba(self, X):\n",
    "        raw_predictions = self.decision_function(X)\n",
    "        \n",
    "        return self.loss_.raw_preds_to_proba(raw_predictions)\n",
    "    \n",
    "    def score(self, X, y):\n",
    "        \"\"\" Calcula el accuracy de la predicción. \"\"\"\n",
    "        \n",
    "        return np.mean(self.predict(X) == y)"
   ]
  },
  {
   "cell_type": "markdown",
   "metadata": {},
   "source": [
    "### Casos de prueba"
   ]
  },
  {
   "cell_type": "code",
   "execution_count": 402,
   "metadata": {
    "ExecuteTime": {
     "end_time": "2020-11-17T11:56:07.412232Z",
     "start_time": "2020-11-17T11:56:07.390377Z"
    }
   },
   "outputs": [],
   "source": [
    "np.random.seed(11)\n",
    "n = 50\n",
    "model = 'sine'\n",
    "ymargin = 0\n",
    "noise = 0.2\n",
    "\n",
    "# We are using the same points for regresion and clawsification. \n",
    "# For regresion we use (x, y) and for classification ((x,y), c).\n",
    "Xtrain_reg, Ytrain_reg, Ytrain_class, = createDataSet(n, model, ymargin, noise)\n",
    "Xtest_reg, Ytest_reg, Ytest_class = createDataSet(5 * n, model, ymargin, noise)\n",
    "\n",
    "Xtrain_class = np.concatenate((Xtrain_reg, Ytrain_reg), axis = 1)\n",
    "Xtest_class = np.concatenate((Xtest_reg, Ytest_reg), axis = 1)\n",
    "Ytrain_reg = Ytrain_reg.ravel()"
   ]
  },
  {
   "cell_type": "code",
   "execution_count": 403,
   "metadata": {
    "ExecuteTime": {
     "end_time": "2020-11-17T11:56:07.999878Z",
     "start_time": "2020-11-17T11:56:07.815839Z"
    }
   },
   "outputs": [
    {
     "data": {
      "image/png": "[encoded data removed]",
      "text/plain": [
       "<Figure size 432x288 with 1 Axes>"
      ]
     },
     "metadata": {
      "needs_background": "light"
     },
     "output_type": "display_data"
    }
   ],
   "source": [
    "plotData(Xtrain_reg, Ytrain_reg, Ytrain_class, {'c':'#FF0000'},{'c':'#0000FF'})\n",
    "Ytrain_class[Ytrain_class == 0] = -1\n",
    "Ytest_class[Ytest_class == 0] = -1"
   ]
  },
  {
   "cell_type": "markdown",
   "metadata": {},
   "source": [
    "#### Regresión"
   ]
  },
  {
   "cell_type": "code",
   "execution_count": 404,
   "metadata": {
    "ExecuteTime": {
     "end_time": "2020-11-17T11:56:11.104154Z",
     "start_time": "2020-11-17T11:56:10.992472Z"
    }
   },
   "outputs": [
    {
     "name": "stdout",
     "output_type": "stream",
     "text": [
      "Training MSE: 0.9181678236547842\n",
      "Test MSE: 46632.05117535146\n"
     ]
    }
   ],
   "source": [
    "gb = RegressorGB()\n",
    "gb.fit(Xtrain_reg, Ytrain_reg)\n",
    "\n",
    "print(f\"Training MSE: {gb.score(Xtrain_reg, Ytrain_reg)}\")\n",
    "print(f\"Test MSE: {gb.score(Xtest_reg, Ytest_reg)}\")"
   ]
  },
  {
   "cell_type": "code",
   "execution_count": 405,
   "metadata": {
    "ExecuteTime": {
     "end_time": "2020-11-17T11:56:11.289871Z",
     "start_time": "2020-11-17T11:56:11.249285Z"
    }
   },
   "outputs": [
    {
     "name": "stdout",
     "output_type": "stream",
     "text": [
      "Training MSE sklearn: 0.9181678236547842\n",
      "Test MSE sklearn: 46632.05117535146\n"
     ]
    }
   ],
   "source": [
    "from sklearn.ensemble import GradientBoostingRegressor\n",
    "gb_sk = GradientBoostingRegressor(criterion=\"mse\", random_state=2020)\n",
    "gb_sk.fit(Xtrain_reg, Ytrain_reg)\n",
    "\n",
    "print(f\"Training MSE sklearn: {SquaredErrorLoss()(Ytrain_reg, gb_sk.predict(Xtrain_reg))}\")\n",
    "print(f\"Test MSE sklearn: {SquaredErrorLoss()(Ytest_reg, gb_sk.predict(Xtest_reg))}\")"
   ]
  },
  {
   "cell_type": "markdown",
   "metadata": {},
   "source": [
    "#### Clasificación"
   ]
  },
  {
   "cell_type": "code",
   "execution_count": 410,
   "metadata": {
    "ExecuteTime": {
     "end_time": "2020-11-17T11:59:46.781203Z",
     "start_time": "2020-11-17T11:59:46.743172Z"
    },
    "scrolled": false
   },
   "outputs": [
    {
     "ename": "TypeError",
     "evalue": "unsupported operand type(s) for *: 'float' and 'NoneType'",
     "output_type": "error",
     "traceback": [
      "\u001b[0;31m---------------------------------------------------------------------------\u001b[0m",
      "\u001b[0;31mTypeError\u001b[0m                                 Traceback (most recent call last)",
      "\u001b[0;32m<ipython-input-410-7be8139065b4>\u001b[0m in \u001b[0;36m<module>\u001b[0;34m\u001b[0m\n\u001b[1;32m      1\u001b[0m \u001b[0mgbc\u001b[0m \u001b[0;34m=\u001b[0m \u001b[0mClassifierGB\u001b[0m\u001b[0;34m(\u001b[0m\u001b[0;34m)\u001b[0m\u001b[0;34m\u001b[0m\u001b[0;34m\u001b[0m\u001b[0m\n\u001b[0;32m----> 2\u001b[0;31m \u001b[0mgbc\u001b[0m\u001b[0;34m.\u001b[0m\u001b[0mfit\u001b[0m\u001b[0;34m(\u001b[0m\u001b[0mXtrain_class\u001b[0m\u001b[0;34m,\u001b[0m \u001b[0mYtrain_class\u001b[0m\u001b[0;34m)\u001b[0m\u001b[0;34m\u001b[0m\u001b[0;34m\u001b[0m\u001b[0m\n\u001b[0m\u001b[1;32m      3\u001b[0m \u001b[0;34m\u001b[0m\u001b[0m\n\u001b[1;32m      4\u001b[0m \u001b[0mprint\u001b[0m\u001b[0;34m(\u001b[0m\u001b[0;34mf\"Training accuracy: {gbc.score(Xtrain_class, Ytrain_class)}\"\u001b[0m\u001b[0;34m)\u001b[0m\u001b[0;34m\u001b[0m\u001b[0;34m\u001b[0m\u001b[0m\n\u001b[1;32m      5\u001b[0m \u001b[0mprint\u001b[0m\u001b[0;34m(\u001b[0m\u001b[0;34mf\"Test accuracy: {gbc.score(Xtest_class, Ytest_class)}\"\u001b[0m\u001b[0;34m)\u001b[0m\u001b[0;34m\u001b[0m\u001b[0;34m\u001b[0m\u001b[0m\n",
      "\u001b[0;32m<ipython-input-409-2f284d9de408>\u001b[0m in \u001b[0;36mfit\u001b[0;34m(self, X, y)\u001b[0m\n\u001b[1;32m     17\u001b[0m         \u001b[0mself\u001b[0m\u001b[0;34m.\u001b[0m\u001b[0mclasses_\u001b[0m \u001b[0;34m=\u001b[0m \u001b[0mclasses\u001b[0m\u001b[0;34m\u001b[0m\u001b[0;34m\u001b[0m\u001b[0m\n\u001b[1;32m     18\u001b[0m \u001b[0;34m\u001b[0m\u001b[0m\n\u001b[0;32m---> 19\u001b[0;31m         \u001b[0msuper\u001b[0m\u001b[0;34m(\u001b[0m\u001b[0;34m)\u001b[0m\u001b[0;34m.\u001b[0m\u001b[0mfit\u001b[0m\u001b[0;34m(\u001b[0m\u001b[0mX\u001b[0m\u001b[0;34m,\u001b[0m \u001b[0my\u001b[0m\u001b[0;34m)\u001b[0m\u001b[0;34m\u001b[0m\u001b[0;34m\u001b[0m\u001b[0m\n\u001b[0m\u001b[1;32m     20\u001b[0m         \u001b[0;32mreturn\u001b[0m \u001b[0mself\u001b[0m\u001b[0;34m\u001b[0m\u001b[0;34m\u001b[0m\u001b[0m\n\u001b[1;32m     21\u001b[0m \u001b[0;34m\u001b[0m\u001b[0m\n",
      "\u001b[0;32m<ipython-input-391-77f350570df0>\u001b[0m in \u001b[0;36mfit\u001b[0;34m(self, X, y)\u001b[0m\n\u001b[1;32m     56\u001b[0m \u001b[0;34m\u001b[0m\u001b[0m\n\u001b[1;32m     57\u001b[0m             \u001b[0;31m# Update F\u001b[0m\u001b[0;34m\u001b[0m\u001b[0;34m\u001b[0m\u001b[0;34m\u001b[0m\u001b[0m\n\u001b[0;32m---> 58\u001b[0;31m             \u001b[0mF\u001b[0m \u001b[0;34m+=\u001b[0m \u001b[0mself\u001b[0m\u001b[0;34m.\u001b[0m\u001b[0mlearning_rate\u001b[0m \u001b[0;34m*\u001b[0m \u001b[0mself\u001b[0m\u001b[0;34m.\u001b[0m\u001b[0m_update_F\u001b[0m\u001b[0;34m(\u001b[0m\u001b[0mmult\u001b[0m\u001b[0;34m,\u001b[0m \u001b[0mX\u001b[0m\u001b[0;34m,\u001b[0m \u001b[0mtree\u001b[0m\u001b[0;34m)\u001b[0m\u001b[0;34m\u001b[0m\u001b[0;34m\u001b[0m\u001b[0m\n\u001b[0m\u001b[1;32m     59\u001b[0m \u001b[0;34m\u001b[0m\u001b[0m\n\u001b[1;32m     60\u001b[0m         \u001b[0;32mreturn\u001b[0m \u001b[0mself\u001b[0m\u001b[0;34m\u001b[0m\u001b[0;34m\u001b[0m\u001b[0m\n",
      "\u001b[0;31mTypeError\u001b[0m: unsupported operand type(s) for *: 'float' and 'NoneType'"
     ]
    }
   ],
   "source": [
    "gbc = ClassifierGB()\n",
    "gbc.fit(Xtrain_class, Ytrain_class)\n",
    "\n",
    "print(f\"Training accuracy: {gbc.score(Xtrain_class, Ytrain_class)}\")\n",
    "print(f\"Test accuracy: {gbc.score(Xtest_class, Ytest_class)}\")\n",
    "\n",
    "plotModel(Xtest_reg, Ytest_reg, Ytest_class, gbc)"
   ]
  },
  {
   "cell_type": "code",
   "execution_count": 407,
   "metadata": {
    "ExecuteTime": {
     "end_time": "2020-11-17T11:56:27.847168Z",
     "start_time": "2020-11-17T11:56:27.576125Z"
    }
   },
   "outputs": [
    {
     "name": "stdout",
     "output_type": "stream",
     "text": [
      "Training accuracy: 1.0\n",
      "Test accuracy: 0.896\n"
     ]
    },
    {
     "data": {
      "image/png": "[encoded data removed]",
      "text/plain": [
       "<Figure size 432x288 with 1 Axes>"
      ]
     },
     "metadata": {
      "needs_background": "light"
     },
     "output_type": "display_data"
    }
   ],
   "source": [
    "from sklearn.ensemble import GradientBoostingClassifier\n",
    "gbc_sk = GradientBoostingClassifier(criterion=\"mse\", random_state=2020)\n",
    "gbc_sk.fit(Xtrain_class, Ytrain_class)\n",
    "print(f\"Training accuracy: {gbc_sk.score(Xtrain_class, Ytrain_class)}\")\n",
    "print(f\"Test accuracy: {gbc_sk.score(Xtest_class, Ytest_class)}\")\n",
    "\n",
    "plotModel(Xtest_reg, Ytest_reg, Ytest_class, gbc_sk)"
   ]
  },
  {
   "cell_type": "markdown",
   "metadata": {},
   "source": [
    "**TODO**\n",
    "\n",
    "- Plot con los clasificadores en cada etapa (mirar en los notebooks de teoría; predict_staged).\n",
    "- Comentar clases BaseGB, RegressorGB y ClassifierGB.\n",
    "- Comentar pruebas y resultados.\n",
    "- Utilizar en conjunto real; hacer CV con n_estimators + regularización y encontrar los parámetros óptimos.\n",
    "- Plot train/test error vs number of iterations on a single dataset."
   ]
  },
  {
   "cell_type": "markdown",
   "metadata": {},
   "source": [
    "## Análisis matemático de la pérdida logarítmica"
   ]
  },
  {
   "cell_type": "markdown",
   "metadata": {},
   "source": [
    "- ¿Por qué usamos la pérdida log para clasificación (adaptada a $\\pm 1$)? (binary cross-entropy, max log-likelihood)\n",
    "- ¿Por qué usamos sigmoide? Se elige primero sigmoide y luego logloss o al revés?\n",
    "- Deducción de $F_0$ (log-odds)\n",
    "- Por qué se puede usar $\\sigma(F(x))$ para recuperar la probabilidad de $y=1$.\n",
    "\n",
    "https://stats.stackexchange.com/questions/340546/likelihood-function-for-binomial-distribution-with-label-1-and-1\n",
    "\n",
    "https://stats.stackexchange.com/questions/280049/derive-a-particular-expression-for-binomial-deviance-from-elements-of-statistica\n",
    "\n",
    "https://scikit-learn.org/stable/modules/model_evaluation.html#log-loss\n",
    "\n",
    "\\+ 2 Papers, libro de ESLR "
   ]
  },
  {
   "cell_type": "code",
   "execution_count": null,
   "metadata": {},
   "outputs": [],
   "source": []
  }
 ],
 "metadata": {
  "kernelspec": {
   "display_name": "Python 3",
   "language": "python",
   "name": "python3"
  },
  "language_info": {
   "codemirror_mode": {
    "name": "ipython",
    "version": 3
   },
   "file_extension": ".py",
   "mimetype": "text/x-python",
   "name": "python",
   "nbconvert_exporter": "python",
   "pygments_lexer": "ipython3",
   "version": "3.8.6"
  },
  "latex_envs": {
   "LaTeX_envs_menu_present": false,
   "autoclose": true,
   "autocomplete": false,
   "bibliofile": "bibliography.bib",
   "cite_by": "apalike",
   "current_citInitial": 1,
   "eqLabelWithNumbers": true,
   "eqNumInitial": 1,
   "hotkeys": {
    "equation": "Ctrl-E",
    "itemize": "Ctrl-I"
   },
   "labels_anchors": false,
   "latex_user_defs": false,
   "report_style_numbering": false,
   "user_envs_cfg": false
  },
  "toc": {
   "base_numbering": 1,
   "nav_menu": {},
   "number_sections": true,
   "sideBar": true,
   "skip_h1_title": false,
   "title_cell": "Table of Contents",
   "title_sidebar": "Contents",
   "toc_cell": false,
   "toc_position": {},
   "toc_section_display": true,
   "toc_window_display": false
  },
  "varInspector": {
   "cols": {
    "lenName": 16,
    "lenType": 16,
    "lenVar": 40
   },
   "kernels_config": {
    "python": {
     "delete_cmd_postfix": "",
     "delete_cmd_prefix": "del ",
     "library": "var_list.py",
     "varRefreshCmd": "print(var_dic_list())"
    },
    "r": {
     "delete_cmd_postfix": ") ",
     "delete_cmd_prefix": "rm(",
     "library": "var_list.r",
     "varRefreshCmd": "cat(var_dic_list()) "
    }
   },
   "types_to_exclude": [
    "module",
    "function",
    "builtin_function_or_method",
    "instance",
    "_Feature"
   ],
   "window_display": false
  }
 },
 "nbformat": 4,
 "nbformat_minor": 4
}
